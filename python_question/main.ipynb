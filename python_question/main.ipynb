{
 "cells": [
  {
   "cell_type": "markdown",
   "metadata": {},
   "source": [
    "Question 1\n"
   ]
  },
  {
   "cell_type": "code",
   "execution_count": 1,
   "metadata": {},
   "outputs": [
    {
     "data": {
      "text/plain": [
       "[2, 2, 3, 3, 3]"
      ]
     },
     "execution_count": 1,
     "metadata": {},
     "output_type": "execute_result"
    }
   ],
   "source": [
    "def fill_none_value(array): #function definition with array as #argument\n",
    "  if len(array) == 0: # handling a case for length of array=0\n",
    "    return f\"List is empty\"\n",
    "  else:\n",
    "    for i in range(len(array)):\n",
    "      if(array[i] == None):\n",
    "        array[i] = array[i-1] # if current element is None then #fill with the last element\n",
    "      if (array[0] == None):\n",
    "        array[i] = array[i+1]\n",
    "\n",
    "    return array\n",
    "\n",
    "array1 = [None,2,3,None,None] #function usage\n",
    "fill_none_value(array1)\n"
   ]
  },
  {
   "cell_type": "markdown",
   "metadata": {},
   "source": [
    "Question 2\n"
   ]
  },
  {
   "cell_type": "code",
   "execution_count": 2,
   "metadata": {},
   "outputs": [
    {
     "data": {
      "text/plain": [
       "\"['This', 'is', 'a']\""
      ]
     },
     "execution_count": 2,
     "metadata": {},
     "output_type": "execute_result"
    }
   ],
   "source": [
    "def split_and_return_list(string1, string2): #function declaration #taking two strings as arguments.\n",
    "    words1 = string1.split() #list\n",
    "    words2 = string2.split() #list\n",
    "    mismatched_Words = []\n",
    "    for i in range (len(words2)): #condition checking the case.\n",
    "      if (words1[i]  != words2[i]):\n",
    "        mismatched_Words.append(words1[i])\n",
    "\n",
    "    return f\"{mismatched_Words}\"\n",
    "\n",
    "# Example usage\n",
    "input_string = \"This is a sample string\" #defining string\n",
    "input_string1 = \"THIS IS A sample string\" #defining string\n",
    "\n",
    "split_and_return_list(input_string, input_string1) #function usage\n"
   ]
  },
  {
   "cell_type": "markdown",
   "metadata": {},
   "source": [
    "Question 3\n"
   ]
  },
  {
   "cell_type": "code",
   "execution_count": 3,
   "metadata": {},
   "outputs": [
    {
     "data": {
      "text/plain": [
       "'Count of i in string This is This is usman usman is 4'"
      ]
     },
     "execution_count": 3,
     "metadata": {},
     "output_type": "execute_result"
    }
   ],
   "source": [
    "def get_char_frequency(str): #function definition\n",
    "  frequency = {} #deifining of dictionary\n",
    "  for i in str: #increment each character in the string\n",
    "    if i in frequency:\n",
    "      frequency[i] += 1\n",
    "    else:\n",
    "      frequency[i] = 1 #if not present then make frequency to one.\n",
    "  return f\"Frequency of each character in list is {frequency}\"\n",
    "\n",
    "def get_specific_char_frequency(str, char): #function for computing #frequency of specific character.\n",
    "  count = 0\n",
    "  for i in str:\n",
    "    if i == char:\n",
    "      count += 1\n",
    "\n",
    "  return f\"Count of {char} in string {str} is {count}\"\n",
    "\n",
    "\n",
    "my_string = \"This is This is usman usman\"\n",
    "get_specific_char_frequency(my_string,\"i\")\n"
   ]
  },
  {
   "cell_type": "code",
   "execution_count": 4,
   "metadata": {},
   "outputs": [
    {
     "data": {
      "text/plain": [
       "\"Frequency of each character in list is {'T': 2, 'h': 2, 'i': 4, 's': 6, ' ': 5, 'u': 2, 'm': 2, 'a': 2, 'n': 2}\""
      ]
     },
     "execution_count": 4,
     "metadata": {},
     "output_type": "execute_result"
    }
   ],
   "source": [
    "get_char_frequency(my_string)"
   ]
  },
  {
   "cell_type": "code",
   "execution_count": null,
   "metadata": {},
   "outputs": [],
   "source": []
  }
 ],
 "metadata": {
  "kernelspec": {
   "display_name": "Python 3",
   "language": "python",
   "name": "python3"
  },
  "language_info": {
   "codemirror_mode": {
    "name": "ipython",
    "version": 3
   },
   "file_extension": ".py",
   "mimetype": "text/x-python",
   "name": "python",
   "nbconvert_exporter": "python",
   "pygments_lexer": "ipython3",
   "version": "3.11.4"
  }
 },
 "nbformat": 4,
 "nbformat_minor": 2
}
